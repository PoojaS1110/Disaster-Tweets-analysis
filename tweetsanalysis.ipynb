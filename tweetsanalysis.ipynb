{
  "metadata": {
    "kernelspec": {
      "name": "python",
      "display_name": "Python (Pyodide)",
      "language": "python"
    },
    "language_info": {
      "codemirror_mode": {
        "name": "python",
        "version": 3
      },
      "file_extension": ".py",
      "mimetype": "text/x-python",
      "name": "python",
      "nbconvert_exporter": "python",
      "pygments_lexer": "ipython3",
      "version": "3.8"
    }
  },
  "nbformat_minor": 4,
  "nbformat": 4,
  "cells": [
    {
      "cell_type": "code",
      "source": "# Import necessary libraries\nimport pandas as pd\nimport re\nfrom sklearn.feature_extraction.text import CountVectorizer\nfrom sklearn.naive_bayes import GaussianNB\n\n# Load the datasets\ntrain_path = 'train.csv'\ntest_path = 'test.csv'\n\ntrain_data = pd.read_csv(train_path)\ntest_data = pd.read_csv(test_path)\n\n# Data Cleaning and Preprocessing\ndef preprocess_text(text):\n    # Remove non-alphabetical characters\n    text = re.sub(r'[^a-zA-Z\\s]', '', text)\n    # Convert text to lowercase\n    text = text.lower()\n    # Tokenize the text using a simple split\n    tokens = text.split()\n    # Apply simple stemming using word stripping (basic approach)\n    tokens = [word[:-1] if word.endswith('s') else word for word in tokens]\n    # Remove stopwords (simple example)\n    stop_words = set(['the', 'is', 'in', 'and', 'to', 'a', 'of'])  # Add more as needed\n    tokens = [word for word in tokens if word not in stop_words]\n    return ' '.join(tokens)\n\n# Apply preprocessing to training and testing data\ntrain_data['cleaned_text'] = train_data['text'].apply(preprocess_text)\ntest_data['cleaned_text'] = test_data['text'].apply(preprocess_text)\n\n# Feature Extraction\nvectorizer = CountVectorizer(max_features=1500)\nX_train = vectorizer.fit_transform(train_data['cleaned_text']).toarray()\ny_train = train_data['target']\n\nX_test = vectorizer.transform(test_data['cleaned_text']).toarray()\n\n# Model Training\nmodel = GaussianNB()\nmodel.fit(X_train, y_train)\n\n# Prediction on Test Data\ny_pred = model.predict(X_test)\n\n# Add predictions to the test data\ntest_data['predicted'] = y_pred\n\n# Save the updated test data with predictions to a CSV file\noutput_path = 'test_with_predictions.csv'\ntest_data.to_csv(output_path, index=False)\n\nprint(\"Test data with predictions saved to 'test_with_predictions.csv'\")\n\n# Print the contents of the updated test data\nprint(\"\\nContents of the test_with_predictions.csv file:\")\nprint(test_data.head())\n",
      "metadata": {
        "trusted": true
      },
      "outputs": [
        {
          "name": "stdout",
          "text": "Test data with predictions saved to 'test_with_predictions.csv'\n\nContents of the test_with_predictions.csv file:\n   id keyword location  \\\n0   0     NaN      NaN   \n1   2     NaN      NaN   \n2   3     NaN      NaN   \n3   9     NaN      NaN   \n4  11     NaN      NaN   \n\n                                                                                               text  \\\n0                                                                Just happened a terrible car crash   \n1                                  Heard about #earthquake is different cities, stay safe everyone.   \n2  there is a forest fire at spot pond, geese are fleeing across the street, I cannot save them all   \n3                                                          Apocalypse lighting. #Spokane #wildfires   \n4                                                     Typhoon Soudelor kills 28 in China and Taiwan   \n\n                                                                             cleaned_text  \\\n0                                                        just happened terrible car crash   \n1                             heard about earthquake i different citie stay safe everyone   \n2  there i forest fire at spot pond geese are fleeing acros street i cannot save them all   \n3                                                    apocalypse lighting spokane wildfire   \n4                                                      typhoon soudelor kill china taiwan   \n\n   predicted  \n0          0  \n1          0  \n2          0  \n3          1  \n4          1  \n",
          "output_type": "stream"
        }
      ],
      "execution_count": 16
    },
    {
      "cell_type": "code",
      "source": "",
      "metadata": {
        "trusted": true
      },
      "outputs": [],
      "execution_count": null
    }
  ]
}